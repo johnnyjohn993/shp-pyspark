{
 "cells": [
  {
   "cell_type": "code",
   "execution_count": 11,
   "metadata": {},
   "outputs": [],
   "source": [
    "from google.oauth2 import service_account\n",
    "from googleapiclient.discovery import build\n",
    "from googleapiclient.http import MediaFileUpload\n",
    "\n",
    "def upload_file_to_gdrive(filename, filepath, mimetype, folder_id):\n",
    "    # Path to the service account key file\n",
    "    SERVICE_ACCOUNT_FILE = r'D:\\Documents\\Data Engineering\\python DE\\shopee_bi_gdriver_jl.json'\n",
    "    # Scopes for Google Drive API\n",
    "    SCOPES = ['https://www.googleapis.com/auth/drive.file']\n",
    "\n",
    "    # Authenticate using the service account\n",
    "    credentials = service_account.Credentials.from_service_account_file(\n",
    "        SERVICE_ACCOUNT_FILE, scopes=SCOPES)\n",
    "    service = build('drive', 'v3', credentials=credentials)\n",
    "\n",
    "    # File metadata and upload\n",
    "    file_metadata = {'name': filename, 'parents': [folder_id]}\n",
    "    media = MediaFileUpload(filepath, mimetype=mimetype)\n",
    "    file = service.files().create(body=file_metadata, media_body=media, fields='id').execute()\n",
    "\n",
    "    print(f\"File ID: {file.get('id')} uploaded to folder ID: {folder_id}\")\n",
    "\n"
   ]
  },
  {
   "cell_type": "code",
   "execution_count": 12,
   "metadata": {},
   "outputs": [
    {
     "name": "stdout",
     "output_type": "stream",
     "text": [
      "File ID: 1_jXfi7xeVzfw4RU-b9XOmz8VuiT0RVpd uploaded to folder ID: 17yz_dwwCI4pIR7koVRCcUAy67Opq68XR\n"
     ]
    }
   ],
   "source": [
    "\n",
    "csv_filename = 'housing_data.csv'\n",
    "csv_filepath = r'D:\\Documents\\Data Engineering\\python DE\\housing_data.csv'\n",
    "csv_mimetype = 'text/csv'\n",
    "drive_folder_id = '17yz_dwwCI4pIR7koVRCcUAy67Opq68XR'  # Replace with your actual Google Drive folder ID\n",
    "\n",
    "upload_file_to_gdrive(csv_filename, csv_filepath, csv_mimetype, drive_folder_id)"
   ]
  },
  {
   "cell_type": "code",
   "execution_count": null,
   "metadata": {},
   "outputs": [],
   "source": [
    "\n",
    "# CSV file to upload\n",
    "file_path = 'path_to_your_csv_file.csv'\n",
    "\n",
    "# Read through the CSV file\n",
    "with open(file_path, 'r', encoding='utf-8') as file:\n",
    "    reader = csv.reader(file)\n",
    "    csv_contents = list(reader)  # Assuming you want to read the entire CSV\n",
    "\n",
    "# Define the folder ID where you want to upload the file\n",
    "folder_id = 'your_folder_id_here'\n",
    "\n",
    "# Create a new Google Drive file in the specified folder\n",
    "upload_file = drive.CreateFile({'title': 'MyCSVFile.csv',\n",
    "                                'parents': [{'id': folder_id}]})\n",
    "upload_file.SetContentString(csv_contents)  # Set content of the file from CSV content\n",
    "upload_file.Upload()\n",
    "\n",
    "print('File uploaded successfully: {}'.format(upload_file['title']))\n"
   ]
  }
 ],
 "metadata": {
  "kernelspec": {
   "display_name": "Python 3",
   "language": "python",
   "name": "python3"
  },
  "language_info": {
   "codemirror_mode": {
    "name": "ipython",
    "version": 3
   },
   "file_extension": ".py",
   "mimetype": "text/x-python",
   "name": "python",
   "nbconvert_exporter": "python",
   "pygments_lexer": "ipython3",
   "version": "3.10.11"
  }
 },
 "nbformat": 4,
 "nbformat_minor": 2
}
